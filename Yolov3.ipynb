{
  "nbformat": 4,
  "nbformat_minor": 0,
  "metadata": {
    "accelerator": "GPU",
    "colab": {
      "name": "Yolov3.ipynb",
      "provenance": [],
      "collapsed_sections": [],
      "machine_shape": "hm",
      "include_colab_link": true
    },
    "kernelspec": {
      "display_name": "Python 3",
      "name": "python3"
    },
    "language_info": {
      "name": "python"
    }
  },
  "cells": [
    {
      "cell_type": "markdown",
      "metadata": {
        "id": "view-in-github",
        "colab_type": "text"
      },
      "source": [
        "<a href=\"https://colab.research.google.com/github/djoy4/YOLOv3/blob/main/Yolov3.ipynb\" target=\"_parent\"><img src=\"https://colab.research.google.com/assets/colab-badge.svg\" alt=\"Open In Colab\"/></a>"
      ]
    },
    {
      "cell_type": "markdown",
      "metadata": {
        "id": "HWRfgKlRJvbO"
      },
      "source": [
        "### **YOLOv3 Implementation**\n",
        "\n",
        "<img src=\"https://res.cloudinary.com/practicaldev/image/fetch/s--po4IF8ql--/c_imagga_scale,f_auto,fl_progressive,h_420,q_auto,w_1000/https://dev-to-uploads.s3.amazonaws.com/uploads/articles/qqysfyws7l98f3rtxcqd.jpg\">\n",
        "\n",
        "\n"
      ]
    },
    {
      "cell_type": "markdown",
      "metadata": {
        "id": "QF34zj5L8MMF"
      },
      "source": [
        "# Setup\n",
        "\n",
        "- Clone Repository \n",
        "\n"
      ]
    },
    {
      "cell_type": "code",
      "metadata": {
        "id": "h92aspya2opQ",
        "colab": {
          "base_uri": "https://localhost:8080/"
        },
        "outputId": "125a8e2a-5fbd-4955-c13c-7f5ed5b5a9b3"
      },
      "source": [
        "!git clone https://github.com/djoy4/YOLOv3.git\n",
        "%cd /content/YOLOv3"
      ],
      "execution_count": 1,
      "outputs": [
        {
          "output_type": "stream",
          "text": [
            "Cloning into 'YOLOv3'...\n",
            "remote: Enumerating objects: 50, done.\u001b[K\n",
            "remote: Counting objects: 100% (50/50), done.\u001b[K\n",
            "remote: Compressing objects: 100% (47/47), done.\u001b[K\n",
            "remote: Total 50 (delta 10), reused 0 (delta 0), pack-reused 0\u001b[K\n",
            "Unpacking objects: 100% (50/50), done.\n",
            "/content/YOLOv3\n"
          ],
          "name": "stdout"
        }
      ]
    },
    {
      "cell_type": "markdown",
      "metadata": {
        "id": "q8GW8f9ZJ5dd"
      },
      "source": [
        "- The following code is to ensure that you have successfully mounted your drive to Google Colab"
      ]
    },
    {
      "cell_type": "code",
      "metadata": {
        "colab": {
          "base_uri": "https://localhost:8080/"
        },
        "id": "ZRHubqdQ8JPG",
        "outputId": "317dcd7b-fb7e-4e5e-9c62-b71a20909553"
      },
      "source": [
        "from google.colab import drive\n",
        "drive.mount('/content/drive')"
      ],
      "execution_count": 3,
      "outputs": [
        {
          "output_type": "stream",
          "text": [
            "Drive already mounted at /content/drive; to attempt to forcibly remount, call drive.mount(\"/content/drive\", force_remount=True).\n"
          ],
          "name": "stdout"
        }
      ]
    },
    {
      "cell_type": "code",
      "metadata": {
        "id": "76YTw1PZHAuN"
      },
      "source": [
        "#!git clone https://github.com/ultralytics/yolov3  # master branch (default)"
      ],
      "execution_count": 4,
      "outputs": []
    },
    {
      "cell_type": "markdown",
      "metadata": {
        "id": "rXmChFvdKJz3"
      },
      "source": [
        "Next in order to have the training and testing run faster, we have to change a few settings\n",
        "\n",
        "- Edit -> Notebook Settings\n",
        "\n",
        "1) Change the Hardware accelerator to GPU \n",
        "\n",
        "2) Change Runtime shape to High RAM"
      ]
    },
    {
      "cell_type": "markdown",
      "metadata": {
        "id": "CO_Brq9X8pDz"
      },
      "source": [
        "Check GPU status "
      ]
    },
    {
      "cell_type": "code",
      "metadata": {
        "id": "82urYpbWr_eE",
        "colab": {
          "base_uri": "https://localhost:8080/"
        },
        "outputId": "5b3fb910-d8c3-4fac-8fc6-2413a143f8cd"
      },
      "source": [
        "!nvidia-smi"
      ],
      "execution_count": 5,
      "outputs": [
        {
          "output_type": "stream",
          "text": [
            "Sat Aug 21 14:57:06 2021       \n",
            "+-----------------------------------------------------------------------------+\n",
            "| NVIDIA-SMI 470.57.02    Driver Version: 460.32.03    CUDA Version: 11.2     |\n",
            "|-------------------------------+----------------------+----------------------+\n",
            "| GPU  Name        Persistence-M| Bus-Id        Disp.A | Volatile Uncorr. ECC |\n",
            "| Fan  Temp  Perf  Pwr:Usage/Cap|         Memory-Usage | GPU-Util  Compute M. |\n",
            "|                               |                      |               MIG M. |\n",
            "|===============================+======================+======================|\n",
            "|   0  Tesla P100-PCIE...  Off  | 00000000:00:04.0 Off |                    0 |\n",
            "| N/A   37C    P0    26W / 250W |      0MiB / 16280MiB |      0%      Default |\n",
            "|                               |                      |                  N/A |\n",
            "+-------------------------------+----------------------+----------------------+\n",
            "                                                                               \n",
            "+-----------------------------------------------------------------------------+\n",
            "| Processes:                                                                  |\n",
            "|  GPU   GI   CI        PID   Type   Process name                  GPU Memory |\n",
            "|        ID   ID                                                   Usage      |\n",
            "|=============================================================================|\n",
            "|  No running processes found                                                 |\n",
            "+-----------------------------------------------------------------------------+\n"
          ],
          "name": "stdout"
        }
      ]
    },
    {
      "cell_type": "markdown",
      "metadata": {
        "id": "CkqoYejp8xkI"
      },
      "source": [
        "- Run the **requirements *italicized text*.txt** file to have all the dependencies on Google Colab \n",
        "Set up"
      ]
    },
    {
      "cell_type": "code",
      "metadata": {
        "id": "DUlWfXbEHTI9",
        "colab": {
          "base_uri": "https://localhost:8080/"
        },
        "outputId": "5c7920b7-8a5e-4d85-b937-83194ad23cea"
      },
      "source": [
        "%cd yolov3/\n",
        "! pip install -r requirements.txt"
      ],
      "execution_count": 4,
      "outputs": [
        {
          "output_type": "stream",
          "text": [
            "[Errno 2] No such file or directory: 'yolov3/'\n",
            "/content/YOLOv3\n",
            "Requirement already satisfied: matplotlib>=3.2.2 in /usr/local/lib/python3.7/dist-packages (from -r requirements.txt (line 4)) (3.2.2)\n",
            "Requirement already satisfied: numpy>=1.18.5 in /usr/local/lib/python3.7/dist-packages (from -r requirements.txt (line 5)) (1.19.5)\n",
            "Requirement already satisfied: opencv-python>=4.1.2 in /usr/local/lib/python3.7/dist-packages (from -r requirements.txt (line 6)) (4.1.2.30)\n",
            "Requirement already satisfied: Pillow in /usr/local/lib/python3.7/dist-packages (from -r requirements.txt (line 7)) (7.1.2)\n",
            "Collecting PyYAML>=5.3.1\n",
            "  Downloading PyYAML-5.4.1-cp37-cp37m-manylinux1_x86_64.whl (636 kB)\n",
            "\u001b[K     |████████████████████████████████| 636 kB 5.1 MB/s \n",
            "\u001b[?25hRequirement already satisfied: scipy>=1.4.1 in /usr/local/lib/python3.7/dist-packages (from -r requirements.txt (line 9)) (1.4.1)\n",
            "Requirement already satisfied: torch>=1.7.0 in /usr/local/lib/python3.7/dist-packages (from -r requirements.txt (line 10)) (1.9.0+cu102)\n",
            "Requirement already satisfied: torchvision>=0.8.1 in /usr/local/lib/python3.7/dist-packages (from -r requirements.txt (line 11)) (0.10.0+cu102)\n",
            "Requirement already satisfied: tqdm>=4.41.0 in /usr/local/lib/python3.7/dist-packages (from -r requirements.txt (line 12)) (4.62.0)\n",
            "Requirement already satisfied: tensorboard>=2.4.1 in /usr/local/lib/python3.7/dist-packages (from -r requirements.txt (line 15)) (2.6.0)\n",
            "Requirement already satisfied: seaborn>=0.11.0 in /usr/local/lib/python3.7/dist-packages (from -r requirements.txt (line 19)) (0.11.1)\n",
            "Requirement already satisfied: pandas in /usr/local/lib/python3.7/dist-packages (from -r requirements.txt (line 20)) (1.1.5)\n",
            "Requirement already satisfied: pycocotools>=2.0 in /usr/local/lib/python3.7/dist-packages (from -r requirements.txt (line 29)) (2.0.2)\n",
            "Collecting thop\n",
            "  Downloading thop-0.0.31.post2005241907-py3-none-any.whl (8.7 kB)\n",
            "Requirement already satisfied: kiwisolver>=1.0.1 in /usr/local/lib/python3.7/dist-packages (from matplotlib>=3.2.2->-r requirements.txt (line 4)) (1.3.1)\n",
            "Requirement already satisfied: cycler>=0.10 in /usr/local/lib/python3.7/dist-packages (from matplotlib>=3.2.2->-r requirements.txt (line 4)) (0.10.0)\n",
            "Requirement already satisfied: python-dateutil>=2.1 in /usr/local/lib/python3.7/dist-packages (from matplotlib>=3.2.2->-r requirements.txt (line 4)) (2.8.2)\n",
            "Requirement already satisfied: pyparsing!=2.0.4,!=2.1.2,!=2.1.6,>=2.0.1 in /usr/local/lib/python3.7/dist-packages (from matplotlib>=3.2.2->-r requirements.txt (line 4)) (2.4.7)\n",
            "Requirement already satisfied: typing-extensions in /usr/local/lib/python3.7/dist-packages (from torch>=1.7.0->-r requirements.txt (line 10)) (3.7.4.3)\n",
            "Requirement already satisfied: tensorboard-plugin-wit>=1.6.0 in /usr/local/lib/python3.7/dist-packages (from tensorboard>=2.4.1->-r requirements.txt (line 15)) (1.8.0)\n",
            "Requirement already satisfied: grpcio>=1.24.3 in /usr/local/lib/python3.7/dist-packages (from tensorboard>=2.4.1->-r requirements.txt (line 15)) (1.39.0)\n",
            "Requirement already satisfied: absl-py>=0.4 in /usr/local/lib/python3.7/dist-packages (from tensorboard>=2.4.1->-r requirements.txt (line 15)) (0.12.0)\n",
            "Requirement already satisfied: google-auth-oauthlib<0.5,>=0.4.1 in /usr/local/lib/python3.7/dist-packages (from tensorboard>=2.4.1->-r requirements.txt (line 15)) (0.4.5)\n",
            "Requirement already satisfied: tensorboard-data-server<0.7.0,>=0.6.0 in /usr/local/lib/python3.7/dist-packages (from tensorboard>=2.4.1->-r requirements.txt (line 15)) (0.6.1)\n",
            "Requirement already satisfied: protobuf>=3.6.0 in /usr/local/lib/python3.7/dist-packages (from tensorboard>=2.4.1->-r requirements.txt (line 15)) (3.17.3)\n",
            "Requirement already satisfied: markdown>=2.6.8 in /usr/local/lib/python3.7/dist-packages (from tensorboard>=2.4.1->-r requirements.txt (line 15)) (3.3.4)\n",
            "Requirement already satisfied: wheel>=0.26 in /usr/local/lib/python3.7/dist-packages (from tensorboard>=2.4.1->-r requirements.txt (line 15)) (0.37.0)\n",
            "Requirement already satisfied: google-auth<2,>=1.6.3 in /usr/local/lib/python3.7/dist-packages (from tensorboard>=2.4.1->-r requirements.txt (line 15)) (1.34.0)\n",
            "Requirement already satisfied: requests<3,>=2.21.0 in /usr/local/lib/python3.7/dist-packages (from tensorboard>=2.4.1->-r requirements.txt (line 15)) (2.23.0)\n",
            "Requirement already satisfied: setuptools>=41.0.0 in /usr/local/lib/python3.7/dist-packages (from tensorboard>=2.4.1->-r requirements.txt (line 15)) (57.4.0)\n",
            "Requirement already satisfied: werkzeug>=0.11.15 in /usr/local/lib/python3.7/dist-packages (from tensorboard>=2.4.1->-r requirements.txt (line 15)) (1.0.1)\n",
            "Requirement already satisfied: pytz>=2017.2 in /usr/local/lib/python3.7/dist-packages (from pandas->-r requirements.txt (line 20)) (2018.9)\n",
            "Requirement already satisfied: cython>=0.27.3 in /usr/local/lib/python3.7/dist-packages (from pycocotools>=2.0->-r requirements.txt (line 29)) (0.29.24)\n",
            "Requirement already satisfied: six in /usr/local/lib/python3.7/dist-packages (from absl-py>=0.4->tensorboard>=2.4.1->-r requirements.txt (line 15)) (1.15.0)\n",
            "Requirement already satisfied: pyasn1-modules>=0.2.1 in /usr/local/lib/python3.7/dist-packages (from google-auth<2,>=1.6.3->tensorboard>=2.4.1->-r requirements.txt (line 15)) (0.2.8)\n",
            "Requirement already satisfied: cachetools<5.0,>=2.0.0 in /usr/local/lib/python3.7/dist-packages (from google-auth<2,>=1.6.3->tensorboard>=2.4.1->-r requirements.txt (line 15)) (4.2.2)\n",
            "Requirement already satisfied: rsa<5,>=3.1.4 in /usr/local/lib/python3.7/dist-packages (from google-auth<2,>=1.6.3->tensorboard>=2.4.1->-r requirements.txt (line 15)) (4.7.2)\n",
            "Requirement already satisfied: requests-oauthlib>=0.7.0 in /usr/local/lib/python3.7/dist-packages (from google-auth-oauthlib<0.5,>=0.4.1->tensorboard>=2.4.1->-r requirements.txt (line 15)) (1.3.0)\n",
            "Requirement already satisfied: importlib-metadata in /usr/local/lib/python3.7/dist-packages (from markdown>=2.6.8->tensorboard>=2.4.1->-r requirements.txt (line 15)) (4.6.4)\n",
            "Requirement already satisfied: pyasn1<0.5.0,>=0.4.6 in /usr/local/lib/python3.7/dist-packages (from pyasn1-modules>=0.2.1->google-auth<2,>=1.6.3->tensorboard>=2.4.1->-r requirements.txt (line 15)) (0.4.8)\n",
            "Requirement already satisfied: urllib3!=1.25.0,!=1.25.1,<1.26,>=1.21.1 in /usr/local/lib/python3.7/dist-packages (from requests<3,>=2.21.0->tensorboard>=2.4.1->-r requirements.txt (line 15)) (1.24.3)\n",
            "Requirement already satisfied: idna<3,>=2.5 in /usr/local/lib/python3.7/dist-packages (from requests<3,>=2.21.0->tensorboard>=2.4.1->-r requirements.txt (line 15)) (2.10)\n",
            "Requirement already satisfied: certifi>=2017.4.17 in /usr/local/lib/python3.7/dist-packages (from requests<3,>=2.21.0->tensorboard>=2.4.1->-r requirements.txt (line 15)) (2021.5.30)\n",
            "Requirement already satisfied: chardet<4,>=3.0.2 in /usr/local/lib/python3.7/dist-packages (from requests<3,>=2.21.0->tensorboard>=2.4.1->-r requirements.txt (line 15)) (3.0.4)\n",
            "Requirement already satisfied: oauthlib>=3.0.0 in /usr/local/lib/python3.7/dist-packages (from requests-oauthlib>=0.7.0->google-auth-oauthlib<0.5,>=0.4.1->tensorboard>=2.4.1->-r requirements.txt (line 15)) (3.1.1)\n",
            "Requirement already satisfied: zipp>=0.5 in /usr/local/lib/python3.7/dist-packages (from importlib-metadata->markdown>=2.6.8->tensorboard>=2.4.1->-r requirements.txt (line 15)) (3.5.0)\n",
            "Installing collected packages: thop, PyYAML\n",
            "  Attempting uninstall: PyYAML\n",
            "    Found existing installation: PyYAML 3.13\n",
            "    Uninstalling PyYAML-3.13:\n",
            "      Successfully uninstalled PyYAML-3.13\n",
            "Successfully installed PyYAML-5.4.1 thop-0.0.31.post2005241907\n"
          ],
          "name": "stdout"
        }
      ]
    },
    {
      "cell_type": "markdown",
      "metadata": {
        "id": "a2ks4LMW9LZR"
      },
      "source": [
        "- This file now downloads the pre-trained weights for the algorithm. \n",
        "\n",
        "- These are not the final weights but rather the initalisition ones. \n",
        "\n",
        "- As training progresses these will by dynamically updated."
      ]
    },
    {
      "cell_type": "code",
      "metadata": {
        "id": "M_xERFS9JpHD",
        "colab": {
          "base_uri": "https://localhost:8080/"
        },
        "outputId": "9e912638-3f18-434b-b576-bc32b74a0307"
      },
      "source": [
        "! ./weights/download_weights.sh"
      ],
      "execution_count": 2,
      "outputs": [
        {
          "output_type": "stream",
          "text": [
            "/bin/bash: ./weights/download_weights.sh: Permission denied\n"
          ],
          "name": "stdout"
        }
      ]
    },
    {
      "cell_type": "markdown",
      "metadata": {
        "id": "-YL1V_7SAu-o"
      },
      "source": [
        "- In case you have to run multiple iteration for training, follow these steps \n",
        "  \n",
        "  1) Download the following files into your drive from the repository\n",
        "\n",
        "  2) Make the necessaery changes to the files, i.e the hyperparameters \n",
        "\n",
        "  3) Uncomment these lines and run the code  "
      ]
    },
    {
      "cell_type": "code",
      "metadata": {
        "id": "yRM4rbjCHlJN"
      },
      "source": [
        "#! cp -i /content/drive/MyDrive/CV_Project_YOYOv3/get_voc.sh /content/yolov3/data/scripts\n",
        "#! cp -i /content/drive/MyDrive/CV_Project_YOYOv3/voc.yaml /content/yolov3/data/voc.yaml\n",
        "#! cp -i /content/drive/MyDrive/CV_Project_YOYOv3/hyp.scratch.yaml /content/yolov3/data/hyp.scratch.yaml"
      ],
      "execution_count": 8,
      "outputs": []
    },
    {
      "cell_type": "markdown",
      "metadata": {
        "id": "8fHYgufNBN7j"
      },
      "source": [
        "- Run the following line to download the PASCAL VOC dataset and split it into train, valiadtion and test datasets"
      ]
    },
    {
      "cell_type": "code",
      "metadata": {
        "id": "bvpSSSEoavcL",
        "colab": {
          "base_uri": "https://localhost:8080/"
        },
        "outputId": "53b7483e-6463-40d9-da3c-e1d19bde0bf7"
      },
      "source": [
        "!  bash data/scripts/get_voc.sh"
      ],
      "execution_count": 3,
      "outputs": [
        {
          "output_type": "stream",
          "text": [
            "Downloading https://github.com/ultralytics/yolov5/releases/download/v1.0/VOCtrainval_11-May-2012.zip ...\n",
            "Downloading https://github.com/ultralytics/yolov5/releases/download/v1.0/VOCtest_06-Nov-2007.zip ...\n",
            "Downloading https://github.com/ultralytics/yolov5/releases/download/v1.0/VOCtrainval_06-Nov-2007.zip ...\n",
            "  % Total    % Received % Xferd  Average Speed   Time    Time     Time  Current\n",
            "                                 Dload  Upload   Total   Spent    Left  Speed\n",
            "\r  0     0    0     0    0     0      0      0 --:--:-- --:--:-- --:--:--     0    %%  TToottaall        %%  RReecceeiivveedd  %%  XXffeerrdd    AAvveerraaggee  SSppeeeedd      TTiimmee        TTiimmee          TTiimmee    CCuurrrreenntt\n",
            "\n",
            "                                                                  DlDolaoda d  U pUlpolaoda d    T oTtoatall      SSppeenntt        LLeefftt    SSppeeeedd\n",
            "\n",
            "\r\r    00         0 0       0  0        0  0      0  0        0     0     0      0      0 --:--:-- --:--:-- --:--:--     0   0 --:--:-- --:--:-- --:--:--     0\r  0     0    0     0    0     0      0      0 --:--:-- --:--:-- --:--:--     0\r  0     0    0     0    0     0      0      0 --:--:-- --:--:-- --:--:--     0\r  0     0    0     0    0     0      0      0 --:--:-- --:--:-- --:--:--     0\r100   635  100   635    0     0   5720      0 --:--:-- --:--:-- --:--:--  5669\n",
            "\r100   631  100   631    0     0   5393      0 --:--:-- --:--:-- --:--:--  5347\n",
            "100   635  100   635    0     0   5474      0 --:--:-- --:--:-- --:--:--  5427\n",
            "100  425M  100  425M    0     0  76.4M      0  0:00:05  0:00:05 --:--:-- 82.1M\n",
            "100  418M  100  418M    0     0  59.1M      0  0:00:07  0:00:07 --:--:-- 54.6M\n",
            "100 1859M  100 1859M    0     0  60.2M      0  0:00:30  0:00:30 --:--:-- 38.8M\n",
            "Completed in 56 seconds\n",
            "Splitting dataset...\n",
            "True\n",
            "True\n",
            "True\n",
            "VOC download done.\n"
          ],
          "name": "stdout"
        }
      ]
    },
    {
      "cell_type": "code",
      "metadata": {
        "id": "lLKE0rDZ1e6b"
      },
      "source": [
        "import torch\n",
        "torch.cuda.empty_cache()\n",
        "# This is to empty out thr CUDA cache so that GPU memory allocation can allow us to run the training algorithm with the set number of training images, image input resolution and batch size. "
      ],
      "execution_count": null,
      "outputs": []
    },
    {
      "cell_type": "code",
      "metadata": {
        "id": "YIofvRfqvQsF",
        "colab": {
          "base_uri": "https://localhost:8080/"
        },
        "outputId": "ab4a15ee-063a-48f9-8b85-4f576fb08ac8"
      },
      "source": [
        "!python train.py --epochs 10 --data voc.yaml --cfg yolov3.yaml --weights 'yolov3.pt' --batch-size 64 --noautoanchor --img-size 256 "
      ],
      "execution_count": 5,
      "outputs": [
        {
          "output_type": "stream",
          "text": [
            "fatal: ambiguous argument 'main..origin/master': unknown revision or path not in the working tree.\n",
            "Use '--' to separate paths from revisions, like this:\n",
            "'git <command> [<revision>...] -- [<file>...]'\n",
            "\u001b[34m\u001b[1mgithub: \u001b[0mCommand 'git rev-list main..origin/master --count' returned non-zero exit status 128.\n",
            "YOLOv3 🚀 a083fb2 torch 1.9.0+cu102 CUDA:0 (Tesla P100-PCIE-16GB, 16280.875MB)\n",
            "\n",
            "Namespace(adam=False, artifact_alias='latest', batch_size=64, bbox_interval=-1, bucket='', cache_images=False, cfg='./models/yolov3.yaml', data='./data/voc.yaml', device='', entity=None, epochs=10, evolve=False, exist_ok=False, global_rank=-1, hyp='data/hyp.scratch.yaml', image_weights=False, img_size=[256, 256], label_smoothing=0.0, linear_lr=False, local_rank=-1, multi_scale=False, name='exp', noautoanchor=True, nosave=False, notest=False, project='runs/train', quad=False, rect=False, resume=False, save_dir='runs/train/exp', save_period=-1, single_cls=False, sync_bn=False, total_batch_size=64, upload_dataset=False, weights='yolov3.pt', workers=8, world_size=1)\n",
            "\u001b[34m\u001b[1mtensorboard: \u001b[0mStart with 'tensorboard --logdir runs/train', view at http://localhost:6006/\n",
            "\u001b[34m\u001b[1mhyperparameters: \u001b[0mlr0=0.01, lrf=0.1, momentum=0.937, weight_decay=0.0005, warmup_epochs=3.0, warmup_momentum=0.8, warmup_bias_lr=0.1, box=0.05, cls=0.5, cls_pw=1.0, obj=1.0, obj_pw=1.0, iou_t=0.2, anchor_t=4.0, fl_gamma=0.0, hsv_h=0.015, hsv_s=0.7, hsv_v=0.4, degrees=0.0, translate=0.1, scale=0.5, shear=0.0, perspective=0.0, flipud=0.0, fliplr=0.5, mosaic=1.0, mixup=0.0\n",
            "\u001b[34m\u001b[1mwandb: \u001b[0mInstall Weights & Biases for YOLOv3 logging with 'pip install wandb' (recommended)\n",
            "Downloading https://github.com/ultralytics/yolov3/releases/download/v9.5.0/yolov3.pt to yolov3.pt...\n",
            "100% 118M/118M [00:01<00:00, 66.8MB/s]\n",
            "\n",
            "\n",
            "                 from  n    params  module                                  arguments                     \n",
            "  0                -1  1       928  models.common.Conv                      [3, 32, 3, 1]                 \n",
            "  1                -1  1     18560  models.common.Conv                      [32, 64, 3, 2]                \n",
            "  2                -1  1     20672  models.common.Bottleneck                [64, 64]                      \n",
            "  3                -1  1     73984  models.common.Conv                      [64, 128, 3, 2]               \n",
            "  4                -1  2    164608  models.common.Bottleneck                [128, 128]                    \n",
            "  5                -1  1    295424  models.common.Conv                      [128, 256, 3, 2]              \n",
            "  6                -1  8   2627584  models.common.Bottleneck                [256, 256]                    \n",
            "  7                -1  1   1180672  models.common.Conv                      [256, 512, 3, 2]              \n",
            "  8                -1  8  10498048  models.common.Bottleneck                [512, 512]                    \n",
            "  9                -1  1   4720640  models.common.Conv                      [512, 1024, 3, 2]             \n",
            " 10                -1  4  20983808  models.common.Bottleneck                [1024, 1024]                  \n",
            " 11                -1  1   5245952  models.common.Bottleneck                [1024, 1024, False]           \n",
            " 12                -1  1    525312  models.common.Conv                      [1024, 512, [1, 1]]           \n",
            " 13                -1  1   4720640  models.common.Conv                      [512, 1024, 3, 1]             \n",
            " 14                -1  1    525312  models.common.Conv                      [1024, 512, 1, 1]             \n",
            " 15                -1  1   4720640  models.common.Conv                      [512, 1024, 3, 1]             \n",
            " 16                -2  1    131584  models.common.Conv                      [512, 256, 1, 1]              \n",
            " 17                -1  1         0  torch.nn.modules.upsampling.Upsample    [None, 2, 'nearest']          \n",
            " 18           [-1, 8]  1         0  models.common.Concat                    [1]                           \n",
            " 19                -1  1   1377792  models.common.Bottleneck                [768, 512, False]             \n",
            " 20                -1  1   1312256  models.common.Bottleneck                [512, 512, False]             \n",
            " 21                -1  1    131584  models.common.Conv                      [512, 256, 1, 1]              \n",
            " 22                -1  1   1180672  models.common.Conv                      [256, 512, 3, 1]              \n",
            " 23                -2  1     33024  models.common.Conv                      [256, 128, 1, 1]              \n",
            " 24                -1  1         0  torch.nn.modules.upsampling.Upsample    [None, 2, 'nearest']          \n",
            " 25           [-1, 6]  1         0  models.common.Concat                    [1]                           \n",
            " 26                -1  1    344832  models.common.Bottleneck                [384, 256, False]             \n",
            " 27                -1  2    656896  models.common.Bottleneck                [256, 256, False]             \n",
            " 28      [27, 22, 15]  1    134625  models.yolo.Detect                      [20, [[10, 13, 16, 30, 33, 23], [30, 61, 62, 45, 59, 119], [116, 90, 156, 198, 373, 326]], [256, 512, 1024]]\n",
            "Model Summary: 333 layers, 61626049 parameters, 61626049 gradients, 155.4 GFLOPS\n",
            "\n",
            "Transferred 432/440 items from yolov3.pt\n",
            "Scaled weight_decay = 0.0005\n",
            "Optimizer groups: 75 .bias, 75 conv.weight, 72 other\n",
            "\u001b[34m\u001b[1mtrain: \u001b[0mScanning '../VOC/labels/train' images and labels... 8218 found, 0 missing, 0 empty, 0 corrupted: 100% 8218/8218 [00:03<00:00, 2518.66it/s]\n",
            "\u001b[34m\u001b[1mtrain: \u001b[0mNew cache created: ../VOC/labels/train.cache\n",
            "\u001b[34m\u001b[1mval: \u001b[0mScanning '../VOC/labels/val' images and labels... 2510 found, 0 missing, 0 empty, 0 corrupted: 100% 2510/2510 [00:01<00:00, 1274.21it/s]\n",
            "\u001b[34m\u001b[1mval: \u001b[0mNew cache created: ../VOC/labels/val.cache\n",
            "[W pthreadpool-cpp.cc:90] Warning: Leaking Caffe2 thread-pool after fork. (function pthreadpool)\n",
            "[W pthreadpool-cpp.cc:90] Warning: Leaking Caffe2 thread-pool after fork. (function pthreadpool)\n",
            "[W pthreadpool-cpp.cc:90] Warning: Leaking Caffe2 thread-pool after fork. (function pthreadpool)\n",
            "[W pthreadpool-cpp.cc:90] Warning: Leaking Caffe2 thread-pool after fork. (function pthreadpool)\n",
            "Plotting labels... \n",
            "Image sizes 256 train, 256 test\n",
            "Using 4 dataloader workers\n",
            "Logging results to runs/train/exp\n",
            "Starting training for 10 epochs...\n",
            "\n",
            "     Epoch   gpu_mem       box       obj       cls     total    labels  img_size\n",
            "       0/9     6.86G     0.108   0.01167   0.07793    0.1976       321       256:   0% 0/129 [00:02<?, ?it/s]/usr/local/lib/python3.7/dist-packages/torch/jit/_trace.py:730: UserWarning: The input to trace is already a ScriptModule, tracing it is a no-op. Returning the object as is.\n",
            "  \"The input to trace is already a ScriptModule, tracing it is a no-op. Returning the object as is.\"\n",
            "       0/9      7.1G   0.06733   0.01725   0.06533    0.1499       146       256: 100% 129/129 [01:35<00:00,  1.35it/s]\n",
            "               Class      Images      Labels           P           R      mAP@.5  mAP@.5:.95: 100% 20/20 [00:26<00:00,  1.33s/it]\n",
            "                 all        2510        6307       0.227       0.402       0.318       0.167\n",
            "\n",
            "     Epoch   gpu_mem       box       obj       cls     total    labels  img_size\n",
            "       1/9     6.99G   0.04685    0.0129   0.03706    0.0968       143       256: 100% 129/129 [01:24<00:00,  1.53it/s]\n",
            "               Class      Images      Labels           P           R      mAP@.5  mAP@.5:.95: 100% 20/20 [00:18<00:00,  1.08it/s]\n",
            "                 all        2510        6307       0.664       0.674       0.696       0.361\n",
            "\n",
            "     Epoch   gpu_mem       box       obj       cls     total    labels  img_size\n",
            "       2/9     9.29G   0.04375   0.01113   0.02187   0.07675       139       256: 100% 129/129 [01:24<00:00,  1.52it/s]\n",
            "               Class      Images      Labels           P           R      mAP@.5  mAP@.5:.95: 100% 20/20 [00:18<00:00,  1.09it/s]\n",
            "                 all        2510        6307       0.737       0.728       0.763       0.454\n",
            "\n",
            "     Epoch   gpu_mem       box       obj       cls     total    labels  img_size\n",
            "       3/9     9.29G   0.03995    0.0108    0.0184   0.06914       139       256: 100% 129/129 [01:25<00:00,  1.51it/s]\n",
            "               Class      Images      Labels           P           R      mAP@.5  mAP@.5:.95: 100% 20/20 [00:18<00:00,  1.08it/s]\n",
            "                 all        2510        6307       0.712        0.69       0.725       0.418\n",
            "\n",
            "     Epoch   gpu_mem       box       obj       cls     total    labels  img_size\n",
            "       4/9     9.29G   0.03701   0.01041   0.01668   0.06411       116       256: 100% 129/129 [01:24<00:00,  1.53it/s]\n",
            "               Class      Images      Labels           P           R      mAP@.5  mAP@.5:.95: 100% 20/20 [00:18<00:00,  1.10it/s]\n",
            "                 all        2510        6307        0.73       0.705       0.744       0.439\n",
            "\n",
            "     Epoch   gpu_mem       box       obj       cls     total    labels  img_size\n",
            "       5/9     9.29G   0.03508   0.01045   0.01588   0.06141       130       256: 100% 129/129 [01:25<00:00,  1.51it/s]\n",
            "               Class      Images      Labels           P           R      mAP@.5  mAP@.5:.95: 100% 20/20 [00:18<00:00,  1.10it/s]\n",
            "                 all        2510        6307        0.76       0.697       0.758       0.471\n",
            "\n",
            "     Epoch   gpu_mem       box       obj       cls     total    labels  img_size\n",
            "       6/9     9.29G    0.0332   0.01046   0.01527   0.05894       136       256: 100% 129/129 [01:24<00:00,  1.52it/s]\n",
            "               Class      Images      Labels           P           R      mAP@.5  mAP@.5:.95: 100% 20/20 [00:18<00:00,  1.08it/s]\n",
            "                 all        2510        6307       0.776       0.682       0.752       0.455\n",
            "\n",
            "     Epoch   gpu_mem       box       obj       cls     total    labels  img_size\n",
            "       7/9     9.29G   0.03174   0.01036   0.01404   0.05613       119       256: 100% 129/129 [01:24<00:00,  1.53it/s]\n",
            "               Class      Images      Labels           P           R      mAP@.5  mAP@.5:.95: 100% 20/20 [00:18<00:00,  1.08it/s]\n",
            "                 all        2510        6307       0.755       0.711       0.763         0.5\n",
            "\n",
            "     Epoch   gpu_mem       box       obj       cls     total    labels  img_size\n",
            "       8/9     9.29G   0.03159   0.01038   0.01346   0.05543       142       256: 100% 129/129 [01:24<00:00,  1.52it/s]\n",
            "               Class      Images      Labels           P           R      mAP@.5  mAP@.5:.95: 100% 20/20 [00:18<00:00,  1.10it/s]\n",
            "                 all        2510        6307       0.766       0.717       0.772        0.49\n",
            "\n",
            "     Epoch   gpu_mem       box       obj       cls     total    labels  img_size\n",
            "       9/9     9.29G   0.02935   0.01001   0.01232   0.05169       135       256: 100% 129/129 [01:25<00:00,  1.52it/s]\n",
            "               Class      Images      Labels           P           R      mAP@.5  mAP@.5:.95: 100% 20/20 [00:22<00:00,  1.15s/it]\n",
            "                 all        2510        6307       0.778       0.741       0.795       0.529\n",
            "           aeroplane        2510         155       0.869       0.771        0.85       0.576\n",
            "             bicycle        2510         177       0.818        0.87       0.889       0.557\n",
            "                bird        2510         243       0.828       0.633       0.763       0.498\n",
            "                boat        2510         150       0.741       0.573       0.653       0.353\n",
            "              bottle        2510         252       0.721       0.552       0.672       0.379\n",
            "                 bus        2510         114       0.783       0.758       0.797       0.648\n",
            "                 car        2510         625       0.771       0.851       0.873        0.62\n",
            "                 cat        2510         190       0.887       0.832       0.889       0.662\n",
            "               chair        2510         398       0.537       0.666       0.614       0.367\n",
            "                 cow        2510         123       0.652       0.789       0.809        0.54\n",
            "         diningtable        2510         112       0.675       0.705       0.718       0.444\n",
            "                 dog        2510         257       0.851       0.782       0.835       0.622\n",
            "               horse        2510         180       0.867       0.831        0.89       0.642\n",
            "           motorbike        2510         172       0.855       0.791       0.878       0.593\n",
            "              person        2510        2332       0.832       0.811       0.871       0.528\n",
            "         pottedplant        2510         266       0.704       0.545       0.606       0.272\n",
            "               sheep        2510         127       0.751        0.69       0.782       0.514\n",
            "                sofa        2510         124        0.67       0.726       0.737       0.518\n",
            "               train        2510         152       0.929       0.861       0.919       0.686\n",
            "           tvmonitor        2510         158       0.816       0.785       0.855       0.553\n",
            "10 epochs completed in 0.302 hours.\n",
            "\n",
            "Optimizer stripped from runs/train/exp/weights/last.pt, 123.6MB\n",
            "Optimizer stripped from runs/train/exp/weights/best.pt, 123.6MB\n"
          ],
          "name": "stdout"
        }
      ]
    },
    {
      "cell_type": "code",
      "metadata": {
        "id": "epXb_tEZ3eNT",
        "colab": {
          "base_uri": "https://localhost:8080/"
        },
        "outputId": "a5963b1a-af50-48ee-dff0-d593735f12e3"
      },
      "source": [
        "!python test.py --weights '/content/YOLOv3/runs/train/exp/weights/best.pt' --data voc.yaml --img-size 256 --batch-size 64 --task test"
      ],
      "execution_count": 6,
      "outputs": [
        {
          "output_type": "stream",
          "text": [
            "Namespace(augment=False, batch_size=64, conf_thres=0.001, data='./data/voc.yaml', device='', exist_ok=False, img_size=256, iou_thres=0.6, name='exp', project='runs/test', save_conf=False, save_hybrid=False, save_json=False, save_txt=False, single_cls=False, task='test', verbose=False, weights=['/content/YOLOv3/runs/train/exp/weights/best.pt'])\n",
            "YOLOv3 🚀 a083fb2 torch 1.9.0+cu102 CUDA:0 (Tesla P100-PCIE-16GB, 16280.875MB)\n",
            "\n",
            "Fusing layers... \n",
            "Model Summary: 261 layers, 61599745 parameters, 0 gradients, 155.2 GFLOPS\n",
            "\u001b[34m\u001b[1mtest: \u001b[0mScanning '../VOC/labels/test' images and labels... 4952 found, 0 missing, 0 empty, 0 corrupted: 100% 4952/4952 [00:02<00:00, 2077.04it/s]\n",
            "\u001b[34m\u001b[1mtest: \u001b[0mNew cache created: ../VOC/labels/test.cache\n",
            "               Class      Images      Labels           P           R      mAP@.5  mAP@.5:.95: 100% 78/78 [00:42<00:00,  1.82it/s]\n",
            "                 all        4952       12032       0.782       0.751       0.798       0.532\n",
            "           aeroplane        4952         285       0.915        0.73       0.822       0.538\n",
            "             bicycle        4952         337       0.868       0.837       0.899       0.586\n",
            "                bird        4952         459       0.794       0.743       0.788       0.487\n",
            "                boat        4952         263       0.722       0.567       0.623       0.319\n",
            "              bottle        4952         469       0.765       0.616       0.704       0.408\n",
            "                 bus        4952         213       0.833       0.822       0.862       0.708\n",
            "                 car        4952        1201       0.805       0.871       0.905       0.666\n",
            "                 cat        4952         358       0.889       0.809       0.894       0.657\n",
            "               chair        4952         756       0.574       0.654       0.632       0.376\n",
            "                 cow        4952         244       0.706       0.807       0.814       0.544\n",
            "         diningtable        4952         206       0.601       0.704       0.681       0.458\n",
            "                 dog        4952         489       0.834        0.76        0.84       0.597\n",
            "               horse        4952         348       0.878       0.851       0.908       0.643\n",
            "           motorbike        4952         325       0.846         0.8       0.877       0.559\n",
            "              person        4952        4528       0.843       0.811       0.873       0.539\n",
            "         pottedplant        4952         480       0.646       0.525       0.578       0.291\n",
            "               sheep        4952         242       0.778       0.802       0.838       0.563\n",
            "                sofa        4952         239       0.644       0.772       0.754        0.55\n",
            "               train        4952         282       0.898       0.816       0.888       0.631\n",
            "           tvmonitor        4952         308       0.807       0.721       0.782       0.515\n",
            "Speed: 2.7/1.1/3.8 ms inference/NMS/total per 256x256 image at batch-size 64\n",
            "Results saved to runs/test/exp\n"
          ],
          "name": "stdout"
        }
      ]
    },
    {
      "cell_type": "code",
      "metadata": {
        "id": "no3OZtLrM6M-",
        "colab": {
          "base_uri": "https://localhost:8080/"
        },
        "outputId": "f343b368-817b-4d9c-a982-f1141c36520c"
      },
      "source": [
        "!zip -r /content/default_train_lrf_best.zip /content/YOLOv3/runs/train/exp\n"
      ],
      "execution_count": 7,
      "outputs": [
        {
          "output_type": "stream",
          "text": [
            "  adding: content/YOLOv3/runs/train/exp/ (stored 0%)\n",
            "  adding: content/YOLOv3/runs/train/exp/test_batch1_pred.jpg (deflated 7%)\n",
            "  adding: content/YOLOv3/runs/train/exp/hyp.yaml (deflated 44%)\n",
            "  adding: content/YOLOv3/runs/train/exp/weights/ (stored 0%)\n",
            "  adding: content/YOLOv3/runs/train/exp/weights/best.pt (deflated 8%)\n",
            "  adding: content/YOLOv3/runs/train/exp/weights/last.pt (deflated 8%)\n",
            "  adding: content/YOLOv3/runs/train/exp/confusion_matrix.png (deflated 12%)\n",
            "  adding: content/YOLOv3/runs/train/exp/test_batch0_pred.jpg (deflated 14%)\n",
            "  adding: content/YOLOv3/runs/train/exp/test_batch1_labels.jpg (deflated 8%)\n",
            "  adding: content/YOLOv3/runs/train/exp/opt.yaml (deflated 46%)\n",
            "  adding: content/YOLOv3/runs/train/exp/events.out.tfevents.1629567641.3fc2bf3abc05.62932.0 (deflated 93%)\n",
            "  adding: content/YOLOv3/runs/train/exp/F1_curve.png (deflated 3%)\n",
            "  adding: content/YOLOv3/runs/train/exp/test_batch2_labels.jpg (deflated 11%)\n",
            "  adding: content/YOLOv3/runs/train/exp/test_batch0_labels.jpg (deflated 16%)\n",
            "  adding: content/YOLOv3/runs/train/exp/train_batch1.jpg (deflated 2%)\n",
            "  adding: content/YOLOv3/runs/train/exp/P_curve.png (deflated 4%)\n",
            "  adding: content/YOLOv3/runs/train/exp/results.txt (deflated 71%)\n",
            "  adding: content/YOLOv3/runs/train/exp/results.png (deflated 9%)\n",
            "  adding: content/YOLOv3/runs/train/exp/train_batch2.jpg (deflated 1%)\n",
            "  adding: content/YOLOv3/runs/train/exp/train_batch0.jpg (deflated 2%)\n",
            "  adding: content/YOLOv3/runs/train/exp/labels_correlogram.jpg (deflated 21%)\n",
            "  adding: content/YOLOv3/runs/train/exp/labels.jpg (deflated 10%)\n",
            "  adding: content/YOLOv3/runs/train/exp/PR_curve.png (deflated 5%)\n",
            "  adding: content/YOLOv3/runs/train/exp/test_batch2_pred.jpg (deflated 10%)\n",
            "  adding: content/YOLOv3/runs/train/exp/R_curve.png (deflated 3%)\n"
          ],
          "name": "stdout"
        }
      ]
    },
    {
      "cell_type": "code",
      "metadata": {
        "id": "m26WigxStmW1",
        "colab": {
          "base_uri": "https://localhost:8080/"
        },
        "outputId": "f67300de-59cf-440e-c64c-1698d2d8fa75"
      },
      "source": [
        "!zip -r /content/default_test_lrf_best.zip /content/YOLOv3/runs/test/exp\n"
      ],
      "execution_count": 8,
      "outputs": [
        {
          "output_type": "stream",
          "text": [
            "  adding: content/YOLOv3/runs/test/exp/ (stored 0%)\n",
            "  adding: content/YOLOv3/runs/test/exp/test_batch1_pred.jpg (deflated 11%)\n",
            "  adding: content/YOLOv3/runs/test/exp/confusion_matrix.png (deflated 12%)\n",
            "  adding: content/YOLOv3/runs/test/exp/test_batch0_pred.jpg (deflated 14%)\n",
            "  adding: content/YOLOv3/runs/test/exp/test_batch1_labels.jpg (deflated 11%)\n",
            "  adding: content/YOLOv3/runs/test/exp/F1_curve.png (deflated 3%)\n",
            "  adding: content/YOLOv3/runs/test/exp/test_batch2_labels.jpg (deflated 11%)\n",
            "  adding: content/YOLOv3/runs/test/exp/test_batch0_labels.jpg (deflated 14%)\n",
            "  adding: content/YOLOv3/runs/test/exp/P_curve.png (deflated 4%)\n",
            "  adding: content/YOLOv3/runs/test/exp/PR_curve.png (deflated 4%)\n",
            "  adding: content/YOLOv3/runs/test/exp/test_batch2_pred.jpg (deflated 11%)\n",
            "  adding: content/YOLOv3/runs/test/exp/R_curve.png (deflated 3%)\n"
          ],
          "name": "stdout"
        }
      ]
    },
    {
      "cell_type": "code",
      "metadata": {
        "id": "-NHYPfpW9fd5",
        "colab": {
          "base_uri": "https://localhost:8080/",
          "height": 17
        },
        "outputId": "8eb50cfc-f598-4927-92ac-1198138caaf1"
      },
      "source": [
        "from google.colab import files\n",
        "files.download(\"/content/default_train_lrf_best.zip\")"
      ],
      "execution_count": 9,
      "outputs": [
        {
          "output_type": "display_data",
          "data": {
            "application/javascript": [
              "\n",
              "    async function download(id, filename, size) {\n",
              "      if (!google.colab.kernel.accessAllowed) {\n",
              "        return;\n",
              "      }\n",
              "      const div = document.createElement('div');\n",
              "      const label = document.createElement('label');\n",
              "      label.textContent = `Downloading \"${filename}\": `;\n",
              "      div.appendChild(label);\n",
              "      const progress = document.createElement('progress');\n",
              "      progress.max = size;\n",
              "      div.appendChild(progress);\n",
              "      document.body.appendChild(div);\n",
              "\n",
              "      const buffers = [];\n",
              "      let downloaded = 0;\n",
              "\n",
              "      const channel = await google.colab.kernel.comms.open(id);\n",
              "      // Send a message to notify the kernel that we're ready.\n",
              "      channel.send({})\n",
              "\n",
              "      for await (const message of channel.messages) {\n",
              "        // Send a message to notify the kernel that we're ready.\n",
              "        channel.send({})\n",
              "        if (message.buffers) {\n",
              "          for (const buffer of message.buffers) {\n",
              "            buffers.push(buffer);\n",
              "            downloaded += buffer.byteLength;\n",
              "            progress.value = downloaded;\n",
              "          }\n",
              "        }\n",
              "      }\n",
              "      const blob = new Blob(buffers, {type: 'application/binary'});\n",
              "      const a = document.createElement('a');\n",
              "      a.href = window.URL.createObjectURL(blob);\n",
              "      a.download = filename;\n",
              "      div.appendChild(a);\n",
              "      a.click();\n",
              "      div.remove();\n",
              "    }\n",
              "  "
            ],
            "text/plain": [
              "<IPython.core.display.Javascript object>"
            ]
          },
          "metadata": {}
        },
        {
          "output_type": "display_data",
          "data": {
            "application/javascript": [
              "download(\"download_9822eff1-2b81-4b55-8073-fb40ef9cb129\", \"default_train_lrf_best.zip\", 233451305)"
            ],
            "text/plain": [
              "<IPython.core.display.Javascript object>"
            ]
          },
          "metadata": {}
        }
      ]
    },
    {
      "cell_type": "code",
      "metadata": {
        "id": "8mkNr2qc9yUT",
        "colab": {
          "base_uri": "https://localhost:8080/",
          "height": 17
        },
        "outputId": "2d32f883-1af9-4c5b-841b-17ed182855b0"
      },
      "source": [
        "from google.colab import files\n",
        "files.download(\"/content/default_test_lrf_best.zip\")"
      ],
      "execution_count": 10,
      "outputs": [
        {
          "output_type": "display_data",
          "data": {
            "application/javascript": [
              "\n",
              "    async function download(id, filename, size) {\n",
              "      if (!google.colab.kernel.accessAllowed) {\n",
              "        return;\n",
              "      }\n",
              "      const div = document.createElement('div');\n",
              "      const label = document.createElement('label');\n",
              "      label.textContent = `Downloading \"${filename}\": `;\n",
              "      div.appendChild(label);\n",
              "      const progress = document.createElement('progress');\n",
              "      progress.max = size;\n",
              "      div.appendChild(progress);\n",
              "      document.body.appendChild(div);\n",
              "\n",
              "      const buffers = [];\n",
              "      let downloaded = 0;\n",
              "\n",
              "      const channel = await google.colab.kernel.comms.open(id);\n",
              "      // Send a message to notify the kernel that we're ready.\n",
              "      channel.send({})\n",
              "\n",
              "      for await (const message of channel.messages) {\n",
              "        // Send a message to notify the kernel that we're ready.\n",
              "        channel.send({})\n",
              "        if (message.buffers) {\n",
              "          for (const buffer of message.buffers) {\n",
              "            buffers.push(buffer);\n",
              "            downloaded += buffer.byteLength;\n",
              "            progress.value = downloaded;\n",
              "          }\n",
              "        }\n",
              "      }\n",
              "      const blob = new Blob(buffers, {type: 'application/binary'});\n",
              "      const a = document.createElement('a');\n",
              "      a.href = window.URL.createObjectURL(blob);\n",
              "      a.download = filename;\n",
              "      div.appendChild(a);\n",
              "      a.click();\n",
              "      div.remove();\n",
              "    }\n",
              "  "
            ],
            "text/plain": [
              "<IPython.core.display.Javascript object>"
            ]
          },
          "metadata": {}
        },
        {
          "output_type": "display_data",
          "data": {
            "application/javascript": [
              "download(\"download_0672c90b-f2b9-4e4b-843c-4cf07cdf1800\", \"default_test_lrf_best.zip\", 3425916)"
            ],
            "text/plain": [
              "<IPython.core.display.Javascript object>"
            ]
          },
          "metadata": {}
        }
      ]
    },
    {
      "cell_type": "code",
      "metadata": {
        "id": "danEjS8mt6iy"
      },
      "source": [
        ""
      ],
      "execution_count": null,
      "outputs": []
    }
  ]
}